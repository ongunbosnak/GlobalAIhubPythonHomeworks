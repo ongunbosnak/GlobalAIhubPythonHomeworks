{
 "cells": [
  {
   "cell_type": "code",
   "execution_count": 2,
   "metadata": {},
   "outputs": [],
   "source": [
    "#User Identification Program\n",
    "#The user will be defined. Get the data of this user by input method. Obtain information from user as follow:\n",
    "#-First Name\n",
    "#-Last Name\n",
    "#-Age\n",
    "#-Date of birth(just year)\n",
    "#Pass the user's information to the list and displays the screen using the for llop. Print all user information on the screen.\n",
    "#If is under 18, print \"You can't go out because it's too dangerous.\" on the screen.\n",
    "#If he is over 18,print \"You can go out to the street.\" on the screen."
   ]
  },
  {
   "cell_type": "code",
   "execution_count": 10,
   "metadata": {},
   "outputs": [],
   "source": [
    "user = []"
   ]
  },
  {
   "cell_type": "code",
   "execution_count": 2,
   "metadata": {},
   "outputs": [
    {
     "name": "stdout",
     "output_type": "stream",
     "text": [
      "Please enter your user first name: Ongun\n"
     ]
    }
   ],
   "source": [
    "firstName = str(input(\"Please enter your user first name: \"))"
   ]
  },
  {
   "cell_type": "code",
   "execution_count": 3,
   "metadata": {},
   "outputs": [
    {
     "name": "stdout",
     "output_type": "stream",
     "text": [
      "Please enter your last name: Bosnak\n"
     ]
    }
   ],
   "source": [
    "lastName = str(input(\"Please enter your last name: \"))"
   ]
  },
  {
   "cell_type": "code",
   "execution_count": 4,
   "metadata": {},
   "outputs": [
    {
     "name": "stdout",
     "output_type": "stream",
     "text": [
      "Please enter your age: 21\n"
     ]
    }
   ],
   "source": [
    "age = int(input(\"Please enter your age: \"))\n"
   ]
  },
  {
   "cell_type": "code",
   "execution_count": 5,
   "metadata": {},
   "outputs": [
    {
     "name": "stdout",
     "output_type": "stream",
     "text": [
      "Please enter your birth year: 1999\n"
     ]
    }
   ],
   "source": [
    "dateOfYear=int(input(\"Please enter your birth year: \"))"
   ]
  },
  {
   "cell_type": "code",
   "execution_count": 12,
   "metadata": {},
   "outputs": [],
   "source": [
    "user.append(firstName)"
   ]
  },
  {
   "cell_type": "code",
   "execution_count": 11,
   "metadata": {},
   "outputs": [],
   "source": [
    "user.append(lastName)"
   ]
  },
  {
   "cell_type": "code",
   "execution_count": 13,
   "metadata": {},
   "outputs": [],
   "source": [
    "user.append(age)"
   ]
  },
  {
   "cell_type": "code",
   "execution_count": 14,
   "metadata": {},
   "outputs": [],
   "source": [
    "user.append(dateOfYear)\n"
   ]
  },
  {
   "cell_type": "code",
   "execution_count": 15,
   "metadata": {},
   "outputs": [
    {
     "name": "stdout",
     "output_type": "stream",
     "text": [
      "Bosnak\n",
      "Ongun\n",
      "21\n",
      "1999\n",
      "You can go out to the street...\n"
     ]
    }
   ],
   "source": [
    "for i in user:\n",
    "    print(i)\n",
    "if age < 18:\n",
    "        print(\"You can't go out because it's too dangerous...\")\n",
    "else:\n",
    "        print(\"You can go out to the street...\")    "
   ]
  }
 ],
 "metadata": {
  "kernelspec": {
   "display_name": "Python 3",
   "language": "python",
   "name": "python3"
  },
  "language_info": {
   "codemirror_mode": {
    "name": "ipython",
    "version": 3
   },
   "file_extension": ".py",
   "mimetype": "text/x-python",
   "name": "python",
   "nbconvert_exporter": "python",
   "pygments_lexer": "ipython3",
   "version": "3.8.3"
  }
 },
 "nbformat": 4,
 "nbformat_minor": 4
}
