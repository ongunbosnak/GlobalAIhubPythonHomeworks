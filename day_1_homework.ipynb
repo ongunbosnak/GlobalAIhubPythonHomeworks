{
 "cells": [
  {
   "cell_type": "code",
   "execution_count": 2,
   "metadata": {},
   "outputs": [],
   "source": [
    "#Homework-1\n",
    "#Take 5 values from the user and write a program that prints the values you get on the screen.\n",
    "#Print the type of values you received this program on the screen.\n",
    "#When using print functions, do not forget to use f-string and format usage in your program"
   ]
  },
  {
   "cell_type": "code",
   "execution_count": 4,
   "metadata": {},
   "outputs": [
    {
     "name": "stdout",
     "output_type": "stream",
     "text": [
      "Please enter a string value: GlobalAIHUB\n"
     ]
    }
   ],
   "source": [
    "x = str(input(\"Please enter a string value: \"))"
   ]
  },
  {
   "cell_type": "code",
   "execution_count": 7,
   "metadata": {},
   "outputs": [
    {
     "name": "stdout",
     "output_type": "stream",
     "text": [
      "Please enter an integer value: 8\n"
     ]
    }
   ],
   "source": [
    "y = int(input(\"Please enter an integer value: \"))"
   ]
  },
  {
   "cell_type": "code",
   "execution_count": 2,
   "metadata": {},
   "outputs": [
    {
     "name": "stdout",
     "output_type": "stream",
     "text": [
      "Please enter a float value: 9.8\n"
     ]
    }
   ],
   "source": [
    "z = float(input(\"Please enter a float value: \"))"
   ]
  },
  {
   "cell_type": "code",
   "execution_count": 4,
   "metadata": {},
   "outputs": [
    {
     "name": "stdout",
     "output_type": "stream",
     "text": [
      "Please enter a boolean value: 0\n"
     ]
    }
   ],
   "source": [
    "d = bool(input(\"Please enter a boolean value: \"))"
   ]
  },
  {
   "cell_type": "code",
   "execution_count": 7,
   "metadata": {},
   "outputs": [
    {
     "name": "stdout",
     "output_type": "stream",
     "text": [
      "Please enter a complex value: 1+2j\n"
     ]
    }
   ],
   "source": [
    "e = complex(input(\"Please enter a complex value: \"))"
   ]
  },
  {
   "cell_type": "code",
   "execution_count": 5,
   "metadata": {},
   "outputs": [
    {
     "name": "stdout",
     "output_type": "stream",
     "text": [
      "The class of the value you entered:<class 'str'>\n"
     ]
    }
   ],
   "source": [
    "print(\"The class of the value you entered:{}\".format(type(x)))"
   ]
  },
  {
   "cell_type": "code",
   "execution_count": 8,
   "metadata": {},
   "outputs": [
    {
     "name": "stdout",
     "output_type": "stream",
     "text": [
      "The class of the value you entered:<class 'int'>\n"
     ]
    }
   ],
   "source": [
    "print(\"The class of the value you entered:{}\".format(type(y)))"
   ]
  },
  {
   "cell_type": "code",
   "execution_count": 3,
   "metadata": {},
   "outputs": [
    {
     "name": "stdout",
     "output_type": "stream",
     "text": [
      "The class of the value you entered:<class 'float'>\n"
     ]
    }
   ],
   "source": [
    "print(\"The class of the value you entered:{}\".format(type(z)))"
   ]
  },
  {
   "cell_type": "code",
   "execution_count": 5,
   "metadata": {},
   "outputs": [
    {
     "name": "stdout",
     "output_type": "stream",
     "text": [
      "The class of the value you entered:<class 'bool'>\n"
     ]
    }
   ],
   "source": [
    "print(\"The class of the value you entered:{}\".format(type(d)))"
   ]
  },
  {
   "cell_type": "code",
   "execution_count": 8,
   "metadata": {},
   "outputs": [
    {
     "name": "stdout",
     "output_type": "stream",
     "text": [
      "The class of the value you entered:<class 'complex'>\n"
     ]
    }
   ],
   "source": [
    "print(\"The class of the value you entered:{}\".format(type(e)))"
   ]
  },
  {
   "cell_type": "code",
   "execution_count": null,
   "metadata": {},
   "outputs": [],
   "source": []
  }
 ],
 "metadata": {
  "kernelspec": {
   "display_name": "Python 3",
   "language": "python",
   "name": "python3"
  },
  "language_info": {
   "codemirror_mode": {
    "name": "ipython",
    "version": 3
   },
   "file_extension": ".py",
   "mimetype": "text/x-python",
   "name": "python",
   "nbconvert_exporter": "python",
   "pygments_lexer": "ipython3",
   "version": "3.8.3"
  }
 },
 "nbformat": 4,
 "nbformat_minor": 4
}
